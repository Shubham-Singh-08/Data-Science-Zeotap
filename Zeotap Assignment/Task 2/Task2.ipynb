{
  "nbformat": 4,
  "nbformat_minor": 0,
  "metadata": {
    "colab": {
      "provenance": []
    },
    "kernelspec": {
      "name": "python3",
      "display_name": "Python 3"
    },
    "language_info": {
      "name": "python"
    }
  },
  "cells": [
    {
      "cell_type": "code",
      "execution_count": 2,
      "metadata": {
        "id": "zXGIFhD53Vxi"
      },
      "outputs": [],
      "source": [
        "# Importing Library\n",
        "import pandas as pd\n",
        "import numpy as np\n",
        "from sklearn.preprocessing import StandardScaler\n",
        "from sklearn.metrics.pairwise import cosine_similarity\n",
        "import warnings\n",
        "warnings.filterwarnings('ignore')"
      ]
    },
    {
      "cell_type": "code",
      "source": [
        "# 1. Load and prepare data\n",
        "def prepare_customer_features():\n",
        "    # Load datasets\n",
        "    customers_df = pd.read_csv('/content/Customers.csv')\n",
        "    transactions_df = pd.read_csv('/content/Transactions.csv')\n",
        "\n",
        "    # Convert dates to datetime\n",
        "    customers_df['SignupDate'] = pd.to_datetime(customers_df['SignupDate'])\n",
        "    transactions_df['TransactionDate'] = pd.to_datetime(transactions_df['TransactionDate'])\n",
        "\n",
        "    # Create customer transaction features\n",
        "    transaction_features = transactions_df.groupby('CustomerID').agg({\n",
        "        'TransactionID': 'count',  # Frequency\n",
        "        'TotalValue': ['sum', 'mean'],  # Monetary\n",
        "        'Quantity': ['sum', 'mean'],  # Volume\n",
        "        'TransactionDate': lambda x: (x.max() - x.min()).days  # Time span\n",
        "    }).reset_index()\n",
        "\n",
        "    # Flatten column names\n",
        "    transaction_features.columns = ['CustomerID', 'transaction_count', 'total_spend',\n",
        "                                  'avg_transaction_value', 'total_quantity', 'avg_quantity',\n",
        "                                  'purchase_timespan']\n",
        "\n",
        "    # Create RFM features\n",
        "    latest_date = transactions_df['TransactionDate'].max()\n",
        "    last_purchase = transactions_df.groupby('CustomerID')['TransactionDate'].max()\n",
        "    recency = (latest_date - last_purchase).dt.days\n",
        "\n",
        "    transaction_features['recency'] = recency\n",
        "\n",
        "    # Encode regions using one-hot encoding\n",
        "    region_dummies = pd.get_dummies(customers_df['Region'], prefix='region')\n",
        "    customers_df = pd.concat([customers_df, region_dummies], axis=1)\n",
        "\n",
        "    # Calculate signup recency\n",
        "    latest_signup = customers_df['SignupDate'].max()\n",
        "    customers_df['signup_recency'] = (latest_signup - customers_df['SignupDate']).dt.days\n",
        "\n",
        "    # Merge all features\n",
        "    feature_columns = ['CustomerID', 'signup_recency'] + [col for col in region_dummies.columns]\n",
        "    customer_features = pd.merge(\n",
        "        customers_df[feature_columns],\n",
        "        transaction_features,\n",
        "        on='CustomerID',\n",
        "        how='left'\n",
        "    )\n",
        "\n",
        "    # Fill NaN values for customers with no transactions\n",
        "    customer_features = customer_features.fillna(0)\n",
        "\n",
        "    return customer_features"
      ],
      "metadata": {
        "id": "K1lrMavF-EGk"
      },
      "execution_count": 3,
      "outputs": []
    },
    {
      "cell_type": "code",
      "source": [
        "# 2. Create similarity model\n",
        "def create_similarity_model(customer_features):\n",
        "    # Select features for similarity calculation\n",
        "    feature_cols = [col for col in customer_features.columns if col != 'CustomerID']\n",
        "\n",
        "    # Scale features\n",
        "    scaler = StandardScaler()\n",
        "    scaled_features = scaler.fit_transform(customer_features[feature_cols])\n",
        "\n",
        "    # Calculate similarity matrix\n",
        "    similarity_matrix = cosine_similarity(scaled_features)\n",
        "\n",
        "    return similarity_matrix, customer_features['CustomerID'].values\n"
      ],
      "metadata": {
        "id": "VW7ubgfA-ONs"
      },
      "execution_count": 4,
      "outputs": []
    },
    {
      "cell_type": "code",
      "source": [
        "# 3. Get top lookalikes\n",
        "def get_top_lookalikes(customer_id, similarity_matrix, customer_ids, n=3):\n",
        "    # Find index of customer\n",
        "    customer_idx = np.where(customer_ids == customer_id)[0][0]\n",
        "\n",
        "    # Get similarity scores for this customer\n",
        "    similarity_scores = similarity_matrix[customer_idx]\n",
        "\n",
        "    # Get indices of top similar customers (excluding self)\n",
        "    similar_indices = np.argsort(similarity_scores)[::-1][1:n+1]\n",
        "\n",
        "    # Get customer IDs and scores\n",
        "    similar_customers = [\n",
        "        (customer_ids[idx], similarity_scores[idx])\n",
        "        for idx in similar_indices\n",
        "    ]\n",
        "\n",
        "    return similar_customers"
      ],
      "metadata": {
        "id": "jJQC_nEx-RX0"
      },
      "execution_count": 5,
      "outputs": []
    },
    {
      "cell_type": "code",
      "source": [
        "# Main execution\n",
        "def main():\n",
        "    # Prepare features\n",
        "    print(\"Preparing customer features...\")\n",
        "    customer_features = prepare_customer_features()\n",
        "\n",
        "    # Create similarity model\n",
        "    print(\"Creating similarity model...\")\n",
        "    similarity_matrix, customer_ids = create_similarity_model(customer_features)\n",
        "\n",
        "    # Generate lookalikes for first 20 customers\n",
        "    print(\"Generating lookalikes...\")\n",
        "    results = {}\n",
        "\n",
        "    for i in range(20):\n",
        "        customer_id = f'C{str(i+1).zfill(4)}'\n",
        "        lookalikes = get_top_lookalikes(customer_id, similarity_matrix, customer_ids)\n",
        "        results[customer_id] = [\n",
        "            {'customer_id': cust_id, 'similarity_score': float(score)}\n",
        "            for cust_id, score in lookalikes\n",
        "        ]\n",
        "\n",
        "    # Create output DataFrame\n",
        "    output_rows = []\n",
        "    for customer_id, lookalikes in results.items():\n",
        "        row = {\n",
        "            'customer_id': customer_id,\n",
        "            'lookalike_1': lookalikes[0]['customer_id'],\n",
        "            'score_1': round(lookalikes[0]['similarity_score'], 4),\n",
        "            'lookalike_2': lookalikes[1]['customer_id'],\n",
        "            'score_2': round(lookalikes[1]['similarity_score'], 4),\n",
        "            'lookalike_3': lookalikes[2]['customer_id'],\n",
        "            'score_3': round(lookalikes[2]['similarity_score'], 4)\n",
        "        }\n",
        "        output_rows.append(row)\n",
        "\n",
        "    output_df = pd.DataFrame(output_rows)\n",
        "\n",
        "    # Save to CSV\n",
        "    output_df.to_csv('/content/Lookalike.csv', index=False)\n",
        "    print(\"\\nResults saved to Lookalike.csv\")\n",
        "    print(\"\\nSample results:\")\n",
        "    print(output_df.head())\n",
        "\n",
        "if __name__ == \"__main__\":\n",
        "    main()"
      ],
      "metadata": {
        "colab": {
          "base_uri": "https://localhost:8080/"
        },
        "id": "O0QLfuvj-Vos",
        "outputId": "bf504b42-8b38-4c89-bc24-5cc24b48f61e"
      },
      "execution_count": 7,
      "outputs": [
        {
          "output_type": "stream",
          "name": "stdout",
          "text": [
            "Preparing customer features...\n",
            "Creating similarity model...\n",
            "Generating lookalikes...\n",
            "\n",
            "Results saved to Lookalike.csv\n",
            "\n",
            "Sample results:\n",
            "  customer_id lookalike_1  score_1 lookalike_2  score_2 lookalike_3  score_3\n",
            "0       C0001       C0152   0.9532       C0174   0.9468       C0011   0.9364\n",
            "1       C0002       C0159   0.9115       C0005   0.8961       C0106   0.8835\n",
            "2       C0003       C0190   0.8571       C0129   0.8517       C0091   0.7606\n",
            "3       C0004       C0113   0.9820       C0165   0.9700       C0102   0.9462\n",
            "4       C0005       C0159   0.9715       C0007   0.9210       C0002   0.8961\n"
          ]
        }
      ]
    }
  ]
}